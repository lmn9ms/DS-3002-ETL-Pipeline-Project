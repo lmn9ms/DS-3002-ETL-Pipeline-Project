{
 "cells": [
  {
   "cell_type": "markdown",
   "id": "6434ac75",
   "metadata": {},
   "source": [
    "# DS 3002: Data Processor Project\n",
    "\n",
    "Lindsey Norberg (lmn9ms) \n",
    "\n",
    "November 8, 2021\n",
    "\n",
    "Data Processor for 2021 Olympic Medals by Country "
   ]
  },
  {
   "cell_type": "code",
   "execution_count": null,
   "id": "89c70057",
   "metadata": {},
   "outputs": [],
   "source": [
    "import numpy as np \n",
    "import pandas as pd\n",
    "import csv\n",
    "import json\n",
    "import os\n",
    "import sys \n",
    "import re \n",
    "import string"
   ]
  },
  {
   "cell_type": "markdown",
   "id": "549933b3",
   "metadata": {},
   "source": [
    "Extracting the data from source and reading in the file as a csv"
   ]
  },
  {
   "cell_type": "code",
   "execution_count": 21,
   "id": "7f3d3f33",
   "metadata": {},
   "outputs": [
    {
     "data": {
      "text/html": [
       "<div>\n",
       "<style scoped>\n",
       "    .dataframe tbody tr th:only-of-type {\n",
       "        vertical-align: middle;\n",
       "    }\n",
       "\n",
       "    .dataframe tbody tr th {\n",
       "        vertical-align: top;\n",
       "    }\n",
       "\n",
       "    .dataframe thead th {\n",
       "        text-align: right;\n",
       "    }\n",
       "</style>\n",
       "<table border=\"1\" class=\"dataframe\">\n",
       "  <thead>\n",
       "    <tr style=\"text-align: right;\">\n",
       "      <th></th>\n",
       "      <th>Rank</th>\n",
       "      <th>Team/NOC</th>\n",
       "      <th>Gold</th>\n",
       "      <th>Silver</th>\n",
       "      <th>Bronze</th>\n",
       "      <th>Total</th>\n",
       "      <th>Rank by Total</th>\n",
       "    </tr>\n",
       "  </thead>\n",
       "  <tbody>\n",
       "    <tr>\n",
       "      <th>0</th>\n",
       "      <td>1</td>\n",
       "      <td>United States of America</td>\n",
       "      <td>39</td>\n",
       "      <td>41</td>\n",
       "      <td>33</td>\n",
       "      <td>113</td>\n",
       "      <td>1</td>\n",
       "    </tr>\n",
       "    <tr>\n",
       "      <th>1</th>\n",
       "      <td>2</td>\n",
       "      <td>People's Republic of China</td>\n",
       "      <td>38</td>\n",
       "      <td>32</td>\n",
       "      <td>18</td>\n",
       "      <td>88</td>\n",
       "      <td>2</td>\n",
       "    </tr>\n",
       "    <tr>\n",
       "      <th>2</th>\n",
       "      <td>3</td>\n",
       "      <td>Japan</td>\n",
       "      <td>27</td>\n",
       "      <td>14</td>\n",
       "      <td>17</td>\n",
       "      <td>58</td>\n",
       "      <td>5</td>\n",
       "    </tr>\n",
       "    <tr>\n",
       "      <th>3</th>\n",
       "      <td>4</td>\n",
       "      <td>Great Britain</td>\n",
       "      <td>22</td>\n",
       "      <td>21</td>\n",
       "      <td>22</td>\n",
       "      <td>65</td>\n",
       "      <td>4</td>\n",
       "    </tr>\n",
       "    <tr>\n",
       "      <th>4</th>\n",
       "      <td>5</td>\n",
       "      <td>ROC</td>\n",
       "      <td>20</td>\n",
       "      <td>28</td>\n",
       "      <td>23</td>\n",
       "      <td>71</td>\n",
       "      <td>3</td>\n",
       "    </tr>\n",
       "  </tbody>\n",
       "</table>\n",
       "</div>"
      ],
      "text/plain": [
       "   Rank                    Team/NOC  Gold  Silver  Bronze  Total  \\\n",
       "0     1    United States of America    39      41      33    113   \n",
       "1     2  People's Republic of China    38      32      18     88   \n",
       "2     3                       Japan    27      14      17     58   \n",
       "3     4               Great Britain    22      21      22     65   \n",
       "4     5                         ROC    20      28      23     71   \n",
       "\n",
       "   Rank by Total  \n",
       "0              1  \n",
       "1              2  \n",
       "2              5  \n",
       "3              4  \n",
       "4              3  "
      ]
     },
     "execution_count": 21,
     "metadata": {},
     "output_type": "execute_result"
    }
   ],
   "source": [
    "medals = pd.read_csv(\"Medals.csv\")\n",
    "medals.head()"
   ]
  },
  {
   "cell_type": "markdown",
   "id": "681ab03d",
   "metadata": {},
   "source": [
    "Overwriting the csv file as the json file"
   ]
  },
  {
   "cell_type": "code",
   "execution_count": 29,
   "id": "4e8c09c7",
   "metadata": {},
   "outputs": [
    {
     "data": {
      "text/html": [
       "<div>\n",
       "<style scoped>\n",
       "    .dataframe tbody tr th:only-of-type {\n",
       "        vertical-align: middle;\n",
       "    }\n",
       "\n",
       "    .dataframe tbody tr th {\n",
       "        vertical-align: top;\n",
       "    }\n",
       "\n",
       "    .dataframe thead th {\n",
       "        text-align: right;\n",
       "    }\n",
       "</style>\n",
       "<table border=\"1\" class=\"dataframe\">\n",
       "  <thead>\n",
       "    <tr style=\"text-align: right;\">\n",
       "      <th></th>\n",
       "      <th>Rank</th>\n",
       "      <th>Team/NOC</th>\n",
       "      <th>Gold</th>\n",
       "      <th>Silver</th>\n",
       "      <th>Bronze</th>\n",
       "      <th>Total</th>\n",
       "      <th>Rank by Total</th>\n",
       "    </tr>\n",
       "  </thead>\n",
       "  <tbody>\n",
       "    <tr>\n",
       "      <th>0</th>\n",
       "      <td>1</td>\n",
       "      <td>United States of America</td>\n",
       "      <td>39</td>\n",
       "      <td>41</td>\n",
       "      <td>33</td>\n",
       "      <td>113</td>\n",
       "      <td>1</td>\n",
       "    </tr>\n",
       "    <tr>\n",
       "      <th>1</th>\n",
       "      <td>2</td>\n",
       "      <td>People's Republic of China</td>\n",
       "      <td>38</td>\n",
       "      <td>32</td>\n",
       "      <td>18</td>\n",
       "      <td>88</td>\n",
       "      <td>2</td>\n",
       "    </tr>\n",
       "    <tr>\n",
       "      <th>2</th>\n",
       "      <td>3</td>\n",
       "      <td>Japan</td>\n",
       "      <td>27</td>\n",
       "      <td>14</td>\n",
       "      <td>17</td>\n",
       "      <td>58</td>\n",
       "      <td>5</td>\n",
       "    </tr>\n",
       "    <tr>\n",
       "      <th>3</th>\n",
       "      <td>4</td>\n",
       "      <td>Great Britain</td>\n",
       "      <td>22</td>\n",
       "      <td>21</td>\n",
       "      <td>22</td>\n",
       "      <td>65</td>\n",
       "      <td>4</td>\n",
       "    </tr>\n",
       "    <tr>\n",
       "      <th>4</th>\n",
       "      <td>5</td>\n",
       "      <td>ROC</td>\n",
       "      <td>20</td>\n",
       "      <td>28</td>\n",
       "      <td>23</td>\n",
       "      <td>71</td>\n",
       "      <td>3</td>\n",
       "    </tr>\n",
       "    <tr>\n",
       "      <th>...</th>\n",
       "      <td>...</td>\n",
       "      <td>...</td>\n",
       "      <td>...</td>\n",
       "      <td>...</td>\n",
       "      <td>...</td>\n",
       "      <td>...</td>\n",
       "      <td>...</td>\n",
       "    </tr>\n",
       "    <tr>\n",
       "      <th>88</th>\n",
       "      <td>86</td>\n",
       "      <td>Ghana</td>\n",
       "      <td>0</td>\n",
       "      <td>0</td>\n",
       "      <td>1</td>\n",
       "      <td>1</td>\n",
       "      <td>77</td>\n",
       "    </tr>\n",
       "    <tr>\n",
       "      <th>89</th>\n",
       "      <td>86</td>\n",
       "      <td>Grenada</td>\n",
       "      <td>0</td>\n",
       "      <td>0</td>\n",
       "      <td>1</td>\n",
       "      <td>1</td>\n",
       "      <td>77</td>\n",
       "    </tr>\n",
       "    <tr>\n",
       "      <th>90</th>\n",
       "      <td>86</td>\n",
       "      <td>Kuwait</td>\n",
       "      <td>0</td>\n",
       "      <td>0</td>\n",
       "      <td>1</td>\n",
       "      <td>1</td>\n",
       "      <td>77</td>\n",
       "    </tr>\n",
       "    <tr>\n",
       "      <th>91</th>\n",
       "      <td>86</td>\n",
       "      <td>Republic of Moldova</td>\n",
       "      <td>0</td>\n",
       "      <td>0</td>\n",
       "      <td>1</td>\n",
       "      <td>1</td>\n",
       "      <td>77</td>\n",
       "    </tr>\n",
       "    <tr>\n",
       "      <th>92</th>\n",
       "      <td>86</td>\n",
       "      <td>Syrian Arab Republic</td>\n",
       "      <td>0</td>\n",
       "      <td>0</td>\n",
       "      <td>1</td>\n",
       "      <td>1</td>\n",
       "      <td>77</td>\n",
       "    </tr>\n",
       "  </tbody>\n",
       "</table>\n",
       "<p>93 rows × 7 columns</p>\n",
       "</div>"
      ],
      "text/plain": [
       "    Rank                    Team/NOC  Gold  Silver  Bronze  Total  \\\n",
       "0      1    United States of America    39      41      33    113   \n",
       "1      2  People's Republic of China    38      32      18     88   \n",
       "2      3                       Japan    27      14      17     58   \n",
       "3      4               Great Britain    22      21      22     65   \n",
       "4      5                         ROC    20      28      23     71   \n",
       "..   ...                         ...   ...     ...     ...    ...   \n",
       "88    86                       Ghana     0       0       1      1   \n",
       "89    86                     Grenada     0       0       1      1   \n",
       "90    86                      Kuwait     0       0       1      1   \n",
       "91    86         Republic of Moldova     0       0       1      1   \n",
       "92    86        Syrian Arab Republic     0       0       1      1   \n",
       "\n",
       "    Rank by Total  \n",
       "0               1  \n",
       "1               2  \n",
       "2               5  \n",
       "3               4  \n",
       "4               3  \n",
       "..            ...  \n",
       "88             77  \n",
       "89             77  \n",
       "90             77  \n",
       "91             77  \n",
       "92             77  \n",
       "\n",
       "[93 rows x 7 columns]"
      ]
     },
     "execution_count": 29,
     "metadata": {},
     "output_type": "execute_result"
    }
   ],
   "source": [
    "medals.to_json(\"Medals.csv\")"
   ]
  },
  {
   "cell_type": "markdown",
   "id": "b490a891",
   "metadata": {},
   "source": [
    "Transforming the data by dropping the primary rank column. This is performed after the extracting of data from the local source."
   ]
  },
  {
   "cell_type": "code",
   "execution_count": 32,
   "id": "9b6c7c56",
   "metadata": {},
   "outputs": [
    {
     "data": {
      "text/html": [
       "<div>\n",
       "<style scoped>\n",
       "    .dataframe tbody tr th:only-of-type {\n",
       "        vertical-align: middle;\n",
       "    }\n",
       "\n",
       "    .dataframe tbody tr th {\n",
       "        vertical-align: top;\n",
       "    }\n",
       "\n",
       "    .dataframe thead th {\n",
       "        text-align: right;\n",
       "    }\n",
       "</style>\n",
       "<table border=\"1\" class=\"dataframe\">\n",
       "  <thead>\n",
       "    <tr style=\"text-align: right;\">\n",
       "      <th></th>\n",
       "      <th>Team/NOC</th>\n",
       "      <th>Gold</th>\n",
       "      <th>Silver</th>\n",
       "      <th>Bronze</th>\n",
       "      <th>Total</th>\n",
       "      <th>Rank by Total</th>\n",
       "    </tr>\n",
       "  </thead>\n",
       "  <tbody>\n",
       "    <tr>\n",
       "      <th>0</th>\n",
       "      <td>United States of America</td>\n",
       "      <td>39</td>\n",
       "      <td>41</td>\n",
       "      <td>33</td>\n",
       "      <td>113</td>\n",
       "      <td>1</td>\n",
       "    </tr>\n",
       "    <tr>\n",
       "      <th>1</th>\n",
       "      <td>People's Republic of China</td>\n",
       "      <td>38</td>\n",
       "      <td>32</td>\n",
       "      <td>18</td>\n",
       "      <td>88</td>\n",
       "      <td>2</td>\n",
       "    </tr>\n",
       "    <tr>\n",
       "      <th>2</th>\n",
       "      <td>Japan</td>\n",
       "      <td>27</td>\n",
       "      <td>14</td>\n",
       "      <td>17</td>\n",
       "      <td>58</td>\n",
       "      <td>5</td>\n",
       "    </tr>\n",
       "    <tr>\n",
       "      <th>3</th>\n",
       "      <td>Great Britain</td>\n",
       "      <td>22</td>\n",
       "      <td>21</td>\n",
       "      <td>22</td>\n",
       "      <td>65</td>\n",
       "      <td>4</td>\n",
       "    </tr>\n",
       "    <tr>\n",
       "      <th>4</th>\n",
       "      <td>ROC</td>\n",
       "      <td>20</td>\n",
       "      <td>28</td>\n",
       "      <td>23</td>\n",
       "      <td>71</td>\n",
       "      <td>3</td>\n",
       "    </tr>\n",
       "  </tbody>\n",
       "</table>\n",
       "</div>"
      ],
      "text/plain": [
       "                     Team/NOC  Gold  Silver  Bronze  Total  Rank by Total\n",
       "0    United States of America    39      41      33    113              1\n",
       "1  People's Republic of China    38      32      18     88              2\n",
       "2                       Japan    27      14      17     58              5\n",
       "3               Great Britain    22      21      22     65              4\n",
       "4                         ROC    20      28      23     71              3"
      ]
     },
     "execution_count": 32,
     "metadata": {},
     "output_type": "execute_result"
    }
   ],
   "source": [
    "transformed_medals = medals.drop(['Rank'], axis = 1)\n",
    "transformed_medals.head()"
   ]
  },
  {
   "cell_type": "markdown",
   "id": "257cd412",
   "metadata": {},
   "source": [
    "Data is written to the local drive in a json format. "
   ]
  },
  {
   "cell_type": "code",
   "execution_count": 40,
   "id": "b851ef00",
   "metadata": {},
   "outputs": [],
   "source": [
    "transformed_medals.to_json(r\"transformed_medals.json\")"
   ]
  },
  {
   "cell_type": "markdown",
   "id": "0784e375",
   "metadata": {},
   "source": [
    "Finding the dimensions of the data - number of columns and the number of records (rows)"
   ]
  },
  {
   "cell_type": "code",
   "execution_count": 53,
   "id": "8eff618a",
   "metadata": {},
   "outputs": [
    {
     "name": "stdout",
     "output_type": "stream",
     "text": [
      "Data set contains 93 columns and 6 records.\n"
     ]
    }
   ],
   "source": [
    "num_cols = transformed_medals.shape[0]\n",
    "num_rows = transformed_medals.shape[1]\n",
    "print(\"Data set contains\", num_cols, \"columns and\", num_rows, \"records.\")"
   ]
  },
  {
   "cell_type": "markdown",
   "id": "293c0f3b",
   "metadata": {},
   "source": [
    "Creating a function that will take a percentile and a column and return the unique countries that are in that percentile of medals. It will only accept the following columns: Gold, Silver, Bronze, or Total. "
   ]
  },
  {
   "cell_type": "code",
   "execution_count": 127,
   "id": "14cc1a0e",
   "metadata": {},
   "outputs": [],
   "source": [
    "def get_countries_in_percentile(percentile, column):\n",
    "    ## The function should only accept the following columns \n",
    "    if column != \"Gold\" and column != \"Silver\" and column!= \"Bronze\" and column != \"Total\":\n",
    "        print(\"Column not valid.\")\n",
    "        return\n",
    "        \n",
    "    index = transformed_medals[column] > np.percentile(transformed_medals[column], percentile)\n",
    "    percentile_totals = transformed_medals[index]\n",
    "    country_list = percentile_totals[\"Team/NOC\"].unique()\n",
    "    \n",
    "    print(\"Countries in the\", percentile, \"th Percentile of\", column, \":\", country_list)"
   ]
  },
  {
   "cell_type": "markdown",
   "id": "ee9da35b",
   "metadata": {},
   "source": [
    "Getting the countries in the 50th percentile or above in Gold medals."
   ]
  },
  {
   "cell_type": "code",
   "execution_count": 128,
   "id": "3b7b0a10",
   "metadata": {},
   "outputs": [
    {
     "name": "stdout",
     "output_type": "stream",
     "text": [
      "Countries in the 50 th Percentile of Gold : ['United States of America' \"People's Republic of China\" 'Japan'\n",
      " 'Great Britain' 'ROC' 'Australia' 'Netherlands' 'France' 'Germany'\n",
      " 'Italy' 'Canada' 'Brazil' 'New Zealand' 'Cuba' 'Hungary'\n",
      " 'Republic of Korea' 'Poland' 'Czech Republic' 'Kenya' 'Norway' 'Jamaica'\n",
      " 'Spain' 'Sweden' 'Switzerland' 'Denmark' 'Croatia'\n",
      " 'Islamic Republic of Iran' 'Serbia' 'Belgium' 'Bulgaria' 'Slovenia'\n",
      " 'Uzbekistan' 'Georgia' 'Chinese Taipei' 'Turkey' 'Greece' 'Uganda'\n",
      " 'Ecuador' 'Ireland' 'Israel' 'Qatar' 'Bahamas' 'Kosovo']\n"
     ]
    }
   ],
   "source": [
    "get_countries_in_percentile(50, \"Gold\")"
   ]
  },
  {
   "cell_type": "markdown",
   "id": "406cd1e3",
   "metadata": {},
   "source": [
    "Getting the countries in the 95th percentile and above in the total number of medals."
   ]
  },
  {
   "cell_type": "code",
   "execution_count": 129,
   "id": "404e6369",
   "metadata": {},
   "outputs": [
    {
     "name": "stdout",
     "output_type": "stream",
     "text": [
      "Countries in the 95 th Percentile of Total : ['United States of America' \"People's Republic of China\" 'Japan'\n",
      " 'Great Britain' 'ROC']\n"
     ]
    }
   ],
   "source": [
    "get_countries_in_percentile(95, \"Total\")"
   ]
  },
  {
   "cell_type": "markdown",
   "id": "bb401303",
   "metadata": {},
   "source": [
    "Getting the countries in the 95th percentile and above in the number of Gold medals. "
   ]
  },
  {
   "cell_type": "code",
   "execution_count": 133,
   "id": "bd0279db",
   "metadata": {},
   "outputs": [
    {
     "name": "stdout",
     "output_type": "stream",
     "text": [
      "Countries in the 95 th Percentile of Gold : ['United States of America' \"People's Republic of China\" 'Japan'\n",
      " 'Great Britain' 'ROC']\n"
     ]
    }
   ],
   "source": [
    "get_countries_in_percentile(95, \"Gold\")"
   ]
  },
  {
   "cell_type": "markdown",
   "id": "2ade1f7a",
   "metadata": {},
   "source": [
    "Getting the countries in the 95th percentile and above in the number of Silver medals. "
   ]
  },
  {
   "cell_type": "code",
   "execution_count": 134,
   "id": "3e94ba3a",
   "metadata": {},
   "outputs": [
    {
     "name": "stdout",
     "output_type": "stream",
     "text": [
      "Countries in the 95 th Percentile of Silver : ['United States of America' \"People's Republic of China\" 'Japan'\n",
      " 'Great Britain' 'ROC']\n"
     ]
    }
   ],
   "source": [
    "get_countries_in_percentile(95, \"Silver\")"
   ]
  },
  {
   "cell_type": "markdown",
   "id": "cf8a379e",
   "metadata": {},
   "source": [
    "Getting the countries in the 95th percentile and above in the number of Bronze medals. "
   ]
  },
  {
   "cell_type": "code",
   "execution_count": null,
   "id": "a4c6bb2c",
   "metadata": {},
   "outputs": [],
   "source": [
    "get_countries_in_percentile(95, \"Bronze\")"
   ]
  },
  {
   "cell_type": "markdown",
   "id": "97847e8b",
   "metadata": {},
   "source": [
    "Checking to make sure that the funciton will not accept an invalid column parameter. Should print out a message that indicates that the column is not valid. "
   ]
  },
  {
   "cell_type": "code",
   "execution_count": 136,
   "id": "faf08a1a",
   "metadata": {},
   "outputs": [
    {
     "name": "stdout",
     "output_type": "stream",
     "text": [
      "Column not valid.\n"
     ]
    }
   ],
   "source": [
    "get_countries_in_percentile(95, \"Team/NOC\")"
   ]
  }
 ],
 "metadata": {
  "kernelspec": {
   "display_name": "Python 3",
   "language": "python",
   "name": "python3"
  },
  "language_info": {
   "codemirror_mode": {
    "name": "ipython",
    "version": 3
   },
   "file_extension": ".py",
   "mimetype": "text/x-python",
   "name": "python",
   "nbconvert_exporter": "python",
   "pygments_lexer": "ipython3",
   "version": "3.8.8"
  }
 },
 "nbformat": 4,
 "nbformat_minor": 5
}
